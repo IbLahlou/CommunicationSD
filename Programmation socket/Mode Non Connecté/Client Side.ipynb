{
 "cells": [
  {
   "cell_type": "code",
   "execution_count": null,
   "id": "68728d9a",
   "metadata": {},
   "outputs": [
    {
     "name": "stdout",
     "output_type": "stream",
     "text": [
      "\n",
      "\n",
      "                          TP2 CLI\n",
      "-------------------------------------------------------------\n"
     ]
    }
   ],
   "source": [
    "# encoding : utf-8\n",
    "# author : Ibrahim-Lahlou\n",
    "# code : client_nc.py\n",
    "\n",
    "\n",
    "import socket as skt\n",
    "\n",
    "#ip = \"192.168.100.5\"\n",
    "ip = \"127.0.0.1\" # localhost\n",
    "port = 5005\n",
    "\n",
    "print(\"\",end=\"\\n\\n\")\n",
    "print(\"                          TP2 CLI\")\n",
    "print(\"-------------------------------------------------------------\")\n",
    "\n",
    "with skt.socket(skt.AF_INET,skt.SOCK_DGRAM) as s:\n",
    "    s.bind((ip,port))\n",
    "    while True :\n",
    "        data = s.recvfrom(1024)\n",
    "        print(\" () :\",data[0])\n",
    "        msg = input('client@vm2:5005$ ')\n",
    "        s.sendto(str.encode(msg),data[1])\n",
    "        if msg == \"exit\" :\n",
    "            break\n",
    "        if not data :\n",
    "            break"
   ]
  },
  {
   "cell_type": "code",
   "execution_count": null,
   "id": "1652a66a",
   "metadata": {},
   "outputs": [],
   "source": []
  }
 ],
 "metadata": {
  "kernelspec": {
   "display_name": "Python 3 (ipykernel)",
   "language": "python",
   "name": "python3"
  },
  "language_info": {
   "codemirror_mode": {
    "name": "ipython",
    "version": 3
   },
   "file_extension": ".py",
   "mimetype": "text/x-python",
   "name": "python",
   "nbconvert_exporter": "python",
   "pygments_lexer": "ipython3",
   "version": "3.10.9"
  }
 },
 "nbformat": 4,
 "nbformat_minor": 5
}
