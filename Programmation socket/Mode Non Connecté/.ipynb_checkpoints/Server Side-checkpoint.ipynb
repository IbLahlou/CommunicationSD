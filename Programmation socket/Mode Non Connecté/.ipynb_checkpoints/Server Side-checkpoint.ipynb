{
 "cells": [
  {
   "cell_type": "code",
   "execution_count": 1,
   "id": "1d0a17d3",
   "metadata": {},
   "outputs": [],
   "source": [
    "# encoding : utf-8\n",
    "# author : Ibrahim-Lahlou\n",
    "# code : server_nc.py\n",
    "\n",
    "import socket as skt\n",
    "\n",
    "#ip = \"192.168.100.5\"\n",
    "ip = \"127.0.0.1\" # localhost\n",
    "port = 5005\n",
    "\n"
   ]
  },
  {
   "cell_type": "code",
   "execution_count": 2,
   "id": "943f5d80",
   "metadata": {},
   "outputs": [
    {
     "name": "stdout",
     "output_type": "stream",
     "text": [
      "\n",
      "\n",
      "                          TP2 SLI\n",
      "-------------------------------------------------------------\n"
     ]
    },
    {
     "ename": "OSError",
     "evalue": "[WinError 10048] Only one usage of each socket address (protocol/network address/port) is normally permitted",
     "output_type": "error",
     "traceback": [
      "\u001b[1;31m---------------------------------------------------------------------------\u001b[0m",
      "\u001b[1;31mOSError\u001b[0m                                   Traceback (most recent call last)",
      "Cell \u001b[1;32mIn[2], line 6\u001b[0m\n\u001b[0;32m      3\u001b[0m \u001b[38;5;28mprint\u001b[39m(\u001b[38;5;124m\"\u001b[39m\u001b[38;5;124m-------------------------------------------------------------\u001b[39m\u001b[38;5;124m\"\u001b[39m)\n\u001b[0;32m      5\u001b[0m \u001b[38;5;28;01mwith\u001b[39;00m skt\u001b[38;5;241m.\u001b[39msocket(skt\u001b[38;5;241m.\u001b[39mAF_INET,skt\u001b[38;5;241m.\u001b[39mSOCK_DGRAM) \u001b[38;5;28;01mas\u001b[39;00m s:\n\u001b[1;32m----> 6\u001b[0m     \u001b[43ms\u001b[49m\u001b[38;5;241;43m.\u001b[39;49m\u001b[43mbind\u001b[49m\u001b[43m(\u001b[49m\u001b[43m(\u001b[49m\u001b[43mip\u001b[49m\u001b[43m,\u001b[49m\u001b[43mport\u001b[49m\u001b[43m)\u001b[49m\u001b[43m)\u001b[49m\n\u001b[0;32m      7\u001b[0m     \u001b[38;5;28;01mwhile\u001b[39;00m \u001b[38;5;28;01mTrue\u001b[39;00m :\n\u001b[0;32m      8\u001b[0m         data \u001b[38;5;241m=\u001b[39m s\u001b[38;5;241m.\u001b[39mrecvfrom(\u001b[38;5;241m1024\u001b[39m)\n",
      "\u001b[1;31mOSError\u001b[0m: [WinError 10048] Only one usage of each socket address (protocol/network address/port) is normally permitted"
     ]
    }
   ],
   "source": [
    "print(\"\",end=\"\\n\\n\")\n",
    "print(\"                          TP2 SLI\")\n",
    "print(\"-------------------------------------------------------------\")\n",
    "\n",
    "with skt.socket(skt.AF_INET,skt.SOCK_DGRAM) as s:\n",
    "    s.bind((ip,port))\n",
    "    while True :\n",
    "        data = s.recvfrom(1024)\n",
    "        print(\" () :\",data[0])\n",
    "        msg = input('server@vm1:5005$ ')\n",
    "        s.sendto(str.encode(msg),data[1])\n",
    "        if msg == \"exit\" :\n",
    "            break\n",
    "        if not data :\n",
    "            break"
   ]
  },
  {
   "cell_type": "code",
   "execution_count": null,
   "id": "b2f2cdce",
   "metadata": {},
   "outputs": [],
   "source": []
  }
 ],
 "metadata": {
  "kernelspec": {
   "display_name": "Python 3 (ipykernel)",
   "language": "python",
   "name": "python3"
  },
  "language_info": {
   "codemirror_mode": {
    "name": "ipython",
    "version": 3
   },
   "file_extension": ".py",
   "mimetype": "text/x-python",
   "name": "python",
   "nbconvert_exporter": "python",
   "pygments_lexer": "ipython3",
   "version": "3.10.9"
  }
 },
 "nbformat": 4,
 "nbformat_minor": 5
}
